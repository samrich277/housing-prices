{
 "cells": [
  {
   "cell_type": "code",
   "execution_count": 1,
   "metadata": {},
   "outputs": [],
   "source": [
    "import pandas as pd\n",
    "import numpy as np\n",
    "import requests\n",
    "from bs4 import BeautifulSoup"
   ]
  },
  {
   "cell_type": "code",
   "execution_count": 2,
   "metadata": {},
   "outputs": [],
   "source": [
    "url = 'https://www.ratemyprofessors.com/search/professors/135?q=%20a'"
   ]
  },
  {
   "cell_type": "code",
   "execution_count": 4,
   "metadata": {},
   "outputs": [
    {
     "name": "stdout",
     "output_type": "stream",
     "text": [
      "200\n"
     ]
    }
   ],
   "source": [
    "r = requests.get(url)\n",
    "print(r.status_code)"
   ]
  },
  {
   "cell_type": "code",
   "execution_count": 23,
   "metadata": {},
   "outputs": [
    {
     "name": "stdout",
     "output_type": "stream",
     "text": [
      "[<a class=\"TeacherCard__StyledTeacherCard-syjs0d-0 dLJIlx\" href=\"/professor/256143\"><div class=\"TeacherCard__InfoRatingWrapper-syjs0d-3 kcbPEB\"><div class=\"TeacherCard__NumRatingWrapper-syjs0d-2 joEEbw\"><div class=\"CardNumRating__StyledCardNumRating-sc-17t4b9u-0 eWZmyX\"><div class=\"CardNumRating__CardNumRatingHeader-sc-17t4b9u-1 fVETNc\">QUALITY</div><div class=\"CardNumRating__CardNumRatingNumber-sc-17t4b9u-2 gcFhmN\">4.3</div><div class=\"CardNumRating__CardNumRatingCount-sc-17t4b9u-3 jMRwbg\">293 ratings</div></div></div><div class=\"TeacherCard__CardInfo-syjs0d-1 fkdYMc\"><div class=\"CardName__StyledCardName-sc-1gyrgim-0 cJdVEK\">Alonzo<!-- --> <!-- -->Gaskill</div><div class=\"CardSchool__StyledCardSchool-sc-19lmz2k-2 gSTNdb\"><div class=\"CardSchool__Department-sc-19lmz2k-0 haUIRO\">Religion</div><div class=\"CardSchool__School-sc-19lmz2k-1 iDlVGM\">Brigham Young University</div></div><div class=\"CardFeedback__StyledCardFeedback-lq6nix-0 frciyA\"><div class=\"CardFeedback__CardFeedbackItem-lq6nix-1 fyKbws\"><div class=\"CardFeedback__CardFeedbackNumber-lq6nix-2 hroXqf\">80%</div> would take again</div><div class=\"VerticalSeparator-sc-1l9ngcr-0 enhFnm\"></div> <div class=\"CardFeedback__CardFeedbackItem-lq6nix-1 fyKbws\"><div class=\"CardFeedback__CardFeedbackNumber-lq6nix-2 hroXqf\">3.1</div> level of difficulty</div></div></div></div><button class=\"TeacherBookmark__StyledTeacherBookmark-sc-17dr6wh-0 hVjzhH\" type=\"button\"><img alt=\"Bookmark\" data-for=\"GLOBAL_TOOLTIP\" data-tip=\"Save Professor\" data-tooltip=\"true\" src=\"/static/media/bookmark-default.b056b070.svg\"/></button></a>, <a class=\"TeacherCard__StyledTeacherCard-syjs0d-0 dLJIlx\" href=\"/professor/279861\"><div class=\"TeacherCard__InfoRatingWrapper-syjs0d-3 kcbPEB\"><div class=\"TeacherCard__NumRatingWrapper-syjs0d-2 joEEbw\"><div class=\"CardNumRating__StyledCardNumRating-sc-17t4b9u-0 eWZmyX\"><div class=\"CardNumRating__CardNumRatingHeader-sc-17t4b9u-1 fVETNc\">QUALITY</div><div class=\"CardNumRating__CardNumRatingNumber-sc-17t4b9u-2 icXUyq\">3.5</div><div class=\"CardNumRating__CardNumRatingCount-sc-17t4b9u-3 jMRwbg\">155 ratings</div></div></div><div class=\"TeacherCard__CardInfo-syjs0d-1 fkdYMc\"><div class=\"CardName__StyledCardName-sc-1gyrgim-0 cJdVEK\">Andrew<!-- --> <!-- -->Holmes</div><div class=\"CardSchool__StyledCardSchool-sc-19lmz2k-2 gSTNdb\"><div class=\"CardSchool__Department-sc-19lmz2k-0 haUIRO\">Finance</div><div class=\"CardSchool__School-sc-19lmz2k-1 iDlVGM\">Brigham Young University</div></div><div class=\"CardFeedback__StyledCardFeedback-lq6nix-0 frciyA\"><div class=\"CardFeedback__CardFeedbackItem-lq6nix-1 fyKbws\"><div class=\"CardFeedback__CardFeedbackNumber-lq6nix-2 hroXqf\">54%</div> would take again</div><div class=\"VerticalSeparator-sc-1l9ngcr-0 enhFnm\"></div> <div class=\"CardFeedback__CardFeedbackItem-lq6nix-1 fyKbws\"><div class=\"CardFeedback__CardFeedbackNumber-lq6nix-2 hroXqf\">3.6</div> level of difficulty</div></div></div></div><button class=\"TeacherBookmark__StyledTeacherBookmark-sc-17dr6wh-0 hVjzhH\" type=\"button\"><img alt=\"Bookmark\" data-for=\"GLOBAL_TOOLTIP\" data-tip=\"Save Professor\" data-tooltip=\"true\" src=\"/static/media/bookmark-default.b056b070.svg\"/></button></a>, <a class=\"TeacherCard__StyledTeacherCard-syjs0d-0 dLJIlx\" href=\"/professor/528016\"><div class=\"TeacherCard__InfoRatingWrapper-syjs0d-3 kcbPEB\"><div class=\"TeacherCard__NumRatingWrapper-syjs0d-2 joEEbw\"><div class=\"CardNumRating__StyledCardNumRating-sc-17t4b9u-0 eWZmyX\"><div class=\"CardNumRating__CardNumRatingHeader-sc-17t4b9u-1 fVETNc\">QUALITY</div><div class=\"CardNumRating__CardNumRatingNumber-sc-17t4b9u-2 icXUyq\">3.2</div><div class=\"CardNumRating__CardNumRatingCount-sc-17t4b9u-3 jMRwbg\">96 ratings</div></div></div><div class=\"TeacherCard__CardInfo-syjs0d-1 fkdYMc\"><div class=\"CardName__StyledCardName-sc-1gyrgim-0 cJdVEK\">Matthew<!-- --> <!-- -->Asplund</div><div class=\"CardSchool__StyledCardSchool-sc-19lmz2k-2 gSTNdb\"><div class=\"CardSchool__Department-sc-19lmz2k-0 haUIRO\">Chemistry</div><div class=\"CardSchool__School-sc-19lmz2k-1 iDlVGM\">Brigham Young University</div></div><div class=\"CardFeedback__StyledCardFeedback-lq6nix-0 frciyA\"><div class=\"CardFeedback__CardFeedbackItem-lq6nix-1 fyKbws\"><div class=\"CardFeedback__CardFeedbackNumber-lq6nix-2 hroXqf\">54%</div> would take again</div><div class=\"VerticalSeparator-sc-1l9ngcr-0 enhFnm\"></div> <div class=\"CardFeedback__CardFeedbackItem-lq6nix-1 fyKbws\"><div class=\"CardFeedback__CardFeedbackNumber-lq6nix-2 hroXqf\">4</div> level of difficulty</div></div></div></div><button class=\"TeacherBookmark__StyledTeacherBookmark-sc-17dr6wh-0 hVjzhH\" type=\"button\"><img alt=\"Bookmark\" data-for=\"GLOBAL_TOOLTIP\" data-tip=\"Save Professor\" data-tooltip=\"true\" src=\"/static/media/bookmark-default.b056b070.svg\"/></button></a>, <a class=\"TeacherCard__StyledTeacherCard-syjs0d-0 dLJIlx\" href=\"/professor/1265567\"><div class=\"TeacherCard__InfoRatingWrapper-syjs0d-3 kcbPEB\"><div class=\"TeacherCard__NumRatingWrapper-syjs0d-2 joEEbw\"><div class=\"CardNumRating__StyledCardNumRating-sc-17t4b9u-0 eWZmyX\"><div class=\"CardNumRating__CardNumRatingHeader-sc-17t4b9u-1 fVETNc\">QUALITY</div><div class=\"CardNumRating__CardNumRatingNumber-sc-17t4b9u-2 gcFhmN\">4.3</div><div class=\"CardNumRating__CardNumRatingCount-sc-17t4b9u-3 jMRwbg\">93 ratings</div></div></div><div class=\"TeacherCard__CardInfo-syjs0d-1 fkdYMc\"><div class=\"CardName__StyledCardName-sc-1gyrgim-0 cJdVEK\">Kenneth<!-- --> <!-- -->Alford</div><div class=\"CardSchool__StyledCardSchool-sc-19lmz2k-2 gSTNdb\"><div class=\"CardSchool__Department-sc-19lmz2k-0 haUIRO\">Religion</div><div class=\"CardSchool__School-sc-19lmz2k-1 iDlVGM\">Brigham Young University</div></div><div class=\"CardFeedback__StyledCardFeedback-lq6nix-0 frciyA\"><div class=\"CardFeedback__CardFeedbackItem-lq6nix-1 fyKbws\"><div class=\"CardFeedback__CardFeedbackNumber-lq6nix-2 hroXqf\">81%</div> would take again</div><div class=\"VerticalSeparator-sc-1l9ngcr-0 enhFnm\"></div> <div class=\"CardFeedback__CardFeedbackItem-lq6nix-1 fyKbws\"><div class=\"CardFeedback__CardFeedbackNumber-lq6nix-2 hroXqf\">2.8</div> level of difficulty</div></div></div></div><button class=\"TeacherBookmark__StyledTeacherBookmark-sc-17dr6wh-0 hVjzhH\" type=\"button\"><img alt=\"Bookmark\" data-for=\"GLOBAL_TOOLTIP\" data-tip=\"Save Professor\" data-tooltip=\"true\" src=\"/static/media/bookmark-default.b056b070.svg\"/></button></a>, <a class=\"TeacherCard__StyledTeacherCard-syjs0d-0 dLJIlx\" href=\"/professor/426108\"><div class=\"TeacherCard__InfoRatingWrapper-syjs0d-3 kcbPEB\"><div class=\"TeacherCard__NumRatingWrapper-syjs0d-2 joEEbw\"><div class=\"CardNumRating__StyledCardNumRating-sc-17t4b9u-0 eWZmyX\"><div class=\"CardNumRating__CardNumRatingHeader-sc-17t4b9u-1 fVETNc\">QUALITY</div><div class=\"CardNumRating__CardNumRatingNumber-sc-17t4b9u-2 icXUyq\">3.9</div><div class=\"CardNumRating__CardNumRatingCount-sc-17t4b9u-3 jMRwbg\">89 ratings</div></div></div><div class=\"TeacherCard__CardInfo-syjs0d-1 fkdYMc\"><div class=\"CardName__StyledCardName-sc-1gyrgim-0 cJdVEK\">Byron<!-- --> <!-- -->Adams</div><div class=\"CardSchool__StyledCardSchool-sc-19lmz2k-2 gSTNdb\"><div class=\"CardSchool__Department-sc-19lmz2k-0 haUIRO\">Biology</div><div class=\"CardSchool__School-sc-19lmz2k-1 iDlVGM\">Brigham Young University</div></div><div class=\"CardFeedback__StyledCardFeedback-lq6nix-0 frciyA\"><div class=\"CardFeedback__CardFeedbackItem-lq6nix-1 fyKbws\"><div class=\"CardFeedback__CardFeedbackNumber-lq6nix-2 hroXqf\">79%</div> would take again</div><div class=\"VerticalSeparator-sc-1l9ngcr-0 enhFnm\"></div> <div class=\"CardFeedback__CardFeedbackItem-lq6nix-1 fyKbws\"><div class=\"CardFeedback__CardFeedbackNumber-lq6nix-2 hroXqf\">3.4</div> level of difficulty</div></div></div></div><button class=\"TeacherBookmark__StyledTeacherBookmark-sc-17dr6wh-0 hVjzhH\" type=\"button\"><img alt=\"Bookmark\" data-for=\"GLOBAL_TOOLTIP\" data-tip=\"Save Professor\" data-tooltip=\"true\" src=\"/static/media/bookmark-default.b056b070.svg\"/></button></a>, <a class=\"TeacherCard__StyledTeacherCard-syjs0d-0 dLJIlx\" href=\"/professor/22490\"><div class=\"TeacherCard__InfoRatingWrapper-syjs0d-3 kcbPEB\"><div class=\"TeacherCard__NumRatingWrapper-syjs0d-2 joEEbw\"><div class=\"CardNumRating__StyledCardNumRating-sc-17t4b9u-0 eWZmyX\"><div class=\"CardNumRating__CardNumRatingHeader-sc-17t4b9u-1 fVETNc\">QUALITY</div><div class=\"CardNumRating__CardNumRatingNumber-sc-17t4b9u-2 icXUyq\">3.5</div><div class=\"CardNumRating__CardNumRatingCount-sc-17t4b9u-3 jMRwbg\">89 ratings</div></div></div><div class=\"TeacherCard__CardInfo-syjs0d-1 fkdYMc\"><div class=\"CardName__StyledCardName-sc-1gyrgim-0 cJdVEK\">Alexander<!-- --> <!-- -->Baugh</div><div class=\"CardSchool__StyledCardSchool-sc-19lmz2k-2 gSTNdb\"><div class=\"CardSchool__Department-sc-19lmz2k-0 haUIRO\">Religion</div><div class=\"CardSchool__School-sc-19lmz2k-1 iDlVGM\">Brigham Young University</div></div><div class=\"CardFeedback__StyledCardFeedback-lq6nix-0 frciyA\"><div class=\"CardFeedback__CardFeedbackItem-lq6nix-1 fyKbws\"><div class=\"CardFeedback__CardFeedbackNumber-lq6nix-2 hroXqf\">69%</div> would take again</div><div class=\"VerticalSeparator-sc-1l9ngcr-0 enhFnm\"></div> <div class=\"CardFeedback__CardFeedbackItem-lq6nix-1 fyKbws\"><div class=\"CardFeedback__CardFeedbackNumber-lq6nix-2 hroXqf\">3.8</div> level of difficulty</div></div></div></div><button class=\"TeacherBookmark__StyledTeacherBookmark-sc-17dr6wh-0 hVjzhH\" type=\"button\"><img alt=\"Bookmark\" data-for=\"GLOBAL_TOOLTIP\" data-tip=\"Save Professor\" data-tooltip=\"true\" src=\"/static/media/bookmark-default.b056b070.svg\"/></button></a>, <a class=\"TeacherCard__StyledTeacherCard-syjs0d-0 dLJIlx\" href=\"/professor/2032190\"><div class=\"TeacherCard__InfoRatingWrapper-syjs0d-3 kcbPEB\"><div class=\"TeacherCard__NumRatingWrapper-syjs0d-2 joEEbw\"><div class=\"CardNumRating__StyledCardNumRating-sc-17t4b9u-0 eWZmyX\"><div class=\"CardNumRating__CardNumRatingHeader-sc-17t4b9u-1 fVETNc\">QUALITY</div><div class=\"CardNumRating__CardNumRatingNumber-sc-17t4b9u-2 icXUyq\">3.9</div><div class=\"CardNumRating__CardNumRatingCount-sc-17t4b9u-3 jMRwbg\">81 ratings</div></div></div><div class=\"TeacherCard__CardInfo-syjs0d-1 fkdYMc\"><div class=\"CardName__StyledCardName-sc-1gyrgim-0 cJdVEK\">Andrew <!-- --> <!-- -->Reed</div><div class=\"CardSchool__StyledCardSchool-sc-19lmz2k-2 gSTNdb\"><div class=\"CardSchool__Department-sc-19lmz2k-0 haUIRO\">Religion</div><div class=\"CardSchool__School-sc-19lmz2k-1 iDlVGM\">Brigham Young University</div></div><div class=\"CardFeedback__StyledCardFeedback-lq6nix-0 frciyA\"><div class=\"CardFeedback__CardFeedbackItem-lq6nix-1 fyKbws\"><div class=\"CardFeedback__CardFeedbackNumber-lq6nix-2 hroXqf\">73%</div> would take again</div><div class=\"VerticalSeparator-sc-1l9ngcr-0 enhFnm\"></div> <div class=\"CardFeedback__CardFeedbackItem-lq6nix-1 fyKbws\"><div class=\"CardFeedback__CardFeedbackNumber-lq6nix-2 hroXqf\">3</div> level of difficulty</div></div></div></div><button class=\"TeacherBookmark__StyledTeacherBookmark-sc-17dr6wh-0 hVjzhH\" type=\"button\"><img alt=\"Bookmark\" data-for=\"GLOBAL_TOOLTIP\" data-tip=\"Save Professor\" data-tooltip=\"true\" src=\"/static/media/bookmark-default.b056b070.svg\"/></button></a>, <a class=\"TeacherCard__StyledTeacherCard-syjs0d-0 dLJIlx\" href=\"/professor/2095200\"><div class=\"TeacherCard__InfoRatingWrapper-syjs0d-3 kcbPEB\"><div class=\"TeacherCard__NumRatingWrapper-syjs0d-2 joEEbw\"><div class=\"CardNumRating__StyledCardNumRating-sc-17t4b9u-0 eWZmyX\"><div class=\"CardNumRating__CardNumRatingHeader-sc-17t4b9u-1 fVETNc\">QUALITY</div><div class=\"CardNumRating__CardNumRatingNumber-sc-17t4b9u-2 icXUyq\">3.0</div><div class=\"CardNumRating__CardNumRatingCount-sc-17t4b9u-3 jMRwbg\">75 ratings</div></div></div><div class=\"TeacherCard__CardInfo-syjs0d-1 fkdYMc\"><div class=\"CardName__StyledCardName-sc-1gyrgim-0 cJdVEK\">Adam<!-- --> <!-- -->Dynes</div><div class=\"CardSchool__StyledCardSchool-sc-19lmz2k-2 gSTNdb\"><div class=\"CardSchool__Department-sc-19lmz2k-0 haUIRO\">Political Science</div><div class=\"CardSchool__School-sc-19lmz2k-1 iDlVGM\">Brigham Young University</div></div><div class=\"CardFeedback__StyledCardFeedback-lq6nix-0 frciyA\"><div class=\"CardFeedback__CardFeedbackItem-lq6nix-1 fyKbws\"><div class=\"CardFeedback__CardFeedbackNumber-lq6nix-2 hroXqf\">46%</div> would take again</div><div class=\"VerticalSeparator-sc-1l9ngcr-0 enhFnm\"></div> <div class=\"CardFeedback__CardFeedbackItem-lq6nix-1 fyKbws\"><div class=\"CardFeedback__CardFeedbackNumber-lq6nix-2 hroXqf\">3.8</div> level of difficulty</div></div></div></div><button class=\"TeacherBookmark__StyledTeacherBookmark-sc-17dr6wh-0 hVjzhH\" type=\"button\"><img alt=\"Bookmark\" data-for=\"GLOBAL_TOOLTIP\" data-tip=\"Save Professor\" data-tooltip=\"true\" src=\"/static/media/bookmark-default.b056b070.svg\"/></button></a>]\n"
     ]
    }
   ],
   "source": [
    "url = 'https://www.ratemyprofessors.com/search/professors/135?q=a'\n",
    "\n",
    "# Make an HTTP request to get the webpage\n",
    "response = requests.get(url)\n",
    "\n",
    "# Parse the webpage content with BeautifulSoup\n",
    "soup = BeautifulSoup(response.content, 'html.parser')\n",
    "teacher_cards = soup.find_all('a', {'class':'TeacherCard__StyledTeacherCard-syjs0d-0 dLJIlx'})\n",
    "print(teacher_cards)"
   ]
  },
  {
   "cell_type": "code",
   "execution_count": 61,
   "metadata": {},
   "outputs": [
    {
     "name": "stdout",
     "output_type": "stream",
     "text": [
      "Name: AlonzoGaskill\n",
      "Department: Religion\n",
      "Would Take Again: 80%\n",
      "Rating: 4.3\n",
      "Number of Ratings: 293 ratings\n",
      "----------------------------------------\n",
      "Name: AndrewHolmes\n",
      "Department: Finance\n",
      "Would Take Again: 54%\n",
      "Rating: 3.5\n",
      "Number of Ratings: 155 ratings\n",
      "----------------------------------------\n",
      "Name: MatthewAsplund\n",
      "Department: Chemistry\n",
      "Would Take Again: 54%\n",
      "Rating: 3.2\n",
      "Number of Ratings: 96 ratings\n",
      "----------------------------------------\n",
      "Name: KennethAlford\n",
      "Department: Religion\n",
      "Would Take Again: 81%\n",
      "Rating: 4.3\n",
      "Number of Ratings: 93 ratings\n",
      "----------------------------------------\n",
      "Name: ByronAdams\n",
      "Department: Biology\n",
      "Would Take Again: 79%\n",
      "Rating: 3.9\n",
      "Number of Ratings: 89 ratings\n",
      "----------------------------------------\n",
      "Name: AlexanderBaugh\n",
      "Department: Religion\n",
      "Would Take Again: 69%\n",
      "Rating: 3.5\n",
      "Number of Ratings: 89 ratings\n",
      "----------------------------------------\n",
      "Name: AndrewReed\n",
      "Department: Religion\n",
      "Would Take Again: 73%\n",
      "Rating: 3.9\n",
      "Number of Ratings: 81 ratings\n",
      "----------------------------------------\n",
      "Name: AdamDynes\n",
      "Department: Political Science\n",
      "Would Take Again: 46%\n",
      "Rating: 3.0\n",
      "Number of Ratings: 75 ratings\n",
      "----------------------------------------\n"
     ]
    }
   ],
   "source": [
    "for card in teacher_cards:\n",
    "    name = card.find('div', class_='CardName__StyledCardName-sc-1gyrgim-0 cJdVEK').get_text(strip=True)\n",
    "    department = card.find('div', class_='CardSchool__Department-sc-19lmz2k-0 haUIRO').get_text(strip=True)\n",
    "    rating = card.find('div', class_='CardNumRating__CardNumRatingNumber-sc-17t4b9u-2').get_text(strip=True)\n",
    "    num_ratings = card.find('div', class_='CardNumRating__CardNumRatingCount-sc-17t4b9u-3 jMRwbg').get_text(strip=True)\n",
    "    would_take_again = card.find('div', class_='CardFeedback__CardFeedbackNumber-lq6nix-2 hroXqf').get_text(strip=True)\n",
    "\n",
    "    print(f\"Name: {name}\")\n",
    "    print(f\"Department: {department}\")\n",
    "    print(f\"Would Take Again: {would_take_again}\")\n",
    "    print(f\"Rating: {rating}\")\n",
    "    print(f\"Number of Ratings: {num_ratings}\")\n",
    "    print('-' * 40)\n"
   ]
  }
 ],
 "metadata": {
  "kernelspec": {
   "display_name": "classes24",
   "language": "python",
   "name": "python3"
  },
  "language_info": {
   "codemirror_mode": {
    "name": "ipython",
    "version": 3
   },
   "file_extension": ".py",
   "mimetype": "text/x-python",
   "name": "python",
   "nbconvert_exporter": "python",
   "pygments_lexer": "ipython3",
   "version": "3.12.5"
  }
 },
 "nbformat": 4,
 "nbformat_minor": 2
}
